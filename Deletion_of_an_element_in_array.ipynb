{
  "nbformat": 4,
  "nbformat_minor": 0,
  "metadata": {
    "colab": {
      "name": "Deletion of an element in array.ipynb",
      "provenance": [],
      "authorship_tag": "ABX9TyPXyFO8trdlpyCTVL54Gs+v"
    },
    "kernelspec": {
      "name": "python3",
      "display_name": "Python 3"
    },
    "language_info": {
      "name": "python"
    }
  },
  "cells": [
    {
      "cell_type": "code",
      "execution_count": 2,
      "metadata": {
        "colab": {
          "base_uri": "https://localhost:8080/"
        },
        "id": "3NdVfHKJ-L4b",
        "outputId": "c014d8f1-fbe0-4017-a2c1-a6983a9c5a3c"
      },
      "outputs": [
        {
          "output_type": "stream",
          "name": "stdout",
          "text": [
            "Enter array length: 5\n",
            "Enter the number of index 0: 1\n",
            "Enter the number of index 1: 2\n",
            "Enter the number of index 2: 3\n",
            "Enter the number of index 3: 7\n",
            "Enter the number of index 4: 6\n",
            "1\n",
            "2\n",
            "3\n",
            "7\n",
            "6\n",
            "Enter the index No.: 2\n",
            "1\n",
            "2\n",
            "3\n",
            "7\n"
          ]
        }
      ],
      "source": [
        "#deletion of an element in an array\n",
        "import numpy as np\n",
        "\n",
        "LA = [0 for i in range(50)]\n",
        "N = int(input(\"Enter array length: \"))\n",
        "for i in range(N):\n",
        "  LA[i] = int(input(f\"Enter the number of index {i}: \"))\n",
        "for i in range(N):\n",
        "  print(LA[i])\n",
        "k = int(input(\"Enter the index No.: \"))\n",
        "\n",
        "def deleteelement(LA, k, No, N):\n",
        "  j = N - 1\n",
        "  while(j <= k):\n",
        "    LA[j+1] = LA[j]\n",
        "    j= j + 1\n",
        "  N = N - 1\n",
        "  return N\n",
        "def printelement(LA, N):\n",
        "  for i in range(N):\n",
        "    print(LA[i])\n",
        "N = deleteelement(LA, k, No, N)\n",
        "printelement(LA, N)\n",
        "\n",
        "#Code written by Syed Danial Khurram"
      ]
    }
  ]
}