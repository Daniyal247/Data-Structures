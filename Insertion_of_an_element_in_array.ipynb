{
  "nbformat": 4,
  "nbformat_minor": 0,
  "metadata": {
    "colab": {
      "name": "Insertion of an element in array.ipynb",
      "provenance": [],
      "authorship_tag": "ABX9TyN1QxaSQLyiVPITctTfoRZT"
    },
    "kernelspec": {
      "name": "python3",
      "display_name": "Python 3"
    },
    "language_info": {
      "name": "python"
    }
  },
  "cells": [
    {
      "cell_type": "code",
      "execution_count": 1,
      "metadata": {
        "colab": {
          "base_uri": "https://localhost:8080/"
        },
        "id": "3NdVfHKJ-L4b",
        "outputId": "87ce5933-84a1-46e2-a935-dd458c04524f"
      },
      "outputs": [
        {
          "output_type": "stream",
          "name": "stdout",
          "text": [
            "Enter array length: 4\n",
            "Enter the number of index 0: 12\n",
            "Enter the number of index 1: 14\n",
            "Enter the number of index 2: 25\n",
            "Enter the number of index 3: 18\n",
            "12\n",
            "14\n",
            "25\n",
            "18\n",
            "Enter the index No.: 2\n",
            "Enter the number which u want to add 2: 2\n",
            "12\n",
            "14\n",
            "2\n",
            "25\n",
            "18\n"
          ]
        }
      ],
      "source": [
        "#insertion of an element without the keyword\n",
        "import numpy as np\n",
        "\n",
        "LA = [0 for i in range(50)]\n",
        "N = int(input(\"Enter array length: \"))\n",
        "for i in range(N):\n",
        "  LA[i] = int(input(f\"Enter the number of index {i}: \"))\n",
        "for i in range(N):\n",
        "  print(LA[i])\n",
        "k = int(input(\"Enter the index No.: \"))\n",
        "No = int(input(f\"Enter the number which u want to add {k}: \"))\n",
        "\n",
        "def insertelement(LA, k, No, N):\n",
        "  j = N - 1\n",
        "  while(j >= k):\n",
        "    LA[j+1] = LA[j]\n",
        "    j= j - 1\n",
        "  LA[k] = No\n",
        "  N = N + 1\n",
        "  return N\n",
        "def printelement(LA, N):\n",
        "  for i in range(N):\n",
        "    print(LA[i])\n",
        "N = insertelement(LA, k, No, N)\n",
        "printelement(LA, N)\n",
        "\n",
        "#code written by Syed Danial Khurram"
      ]
    },
    {
      "cell_type": "code",
      "source": [
        "14\n"
      ],
      "metadata": {
        "id": "Ev5fn5C4-Rjf"
      },
      "execution_count": null,
      "outputs": []
    }
  ]
}