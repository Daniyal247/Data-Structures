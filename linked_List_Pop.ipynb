{
  "nbformat": 4,
  "nbformat_minor": 0,
  "metadata": {
    "colab": {
      "provenance": [],
      "authorship_tag": "ABX9TyPEyFS7OD7x2wtYiOjOLnmz",
      "include_colab_link": true
    },
    "kernelspec": {
      "name": "python3",
      "display_name": "Python 3"
    },
    "language_info": {
      "name": "python"
    }
  },
  "cells": [
    {
      "cell_type": "markdown",
      "metadata": {
        "id": "view-in-github",
        "colab_type": "text"
      },
      "source": [
        "<a href=\"https://colab.research.google.com/github/Daniyal247/Data-Structures/blob/main/linked_List_Pop.ipynb\" target=\"_parent\"><img src=\"https://colab.research.google.com/assets/colab-badge.svg\" alt=\"Open In Colab\"/></a>"
      ]
    },
    {
      "cell_type": "code",
      "execution_count": 1,
      "metadata": {
        "colab": {
          "base_uri": "https://localhost:8080/"
        },
        "id": "Th657i2KRbfS",
        "outputId": "7561687e-b466-4e00-987e-0c6b5050023e"
      },
      "outputs": [
        {
          "output_type": "stream",
          "name": "stdout",
          "text": [
            "The list contains: 10 20 30 40 \n",
            "The list contains: 20 30 40 \n"
          ]
        }
      ],
      "source": [
        "#pop, pull and print in lnked list\n",
        "class Node:\n",
        "  def __init__(self, data):\n",
        "    self.data = data\n",
        "    self.next = None\n",
        "\n",
        "class LinkedList:\n",
        "  def __init__(self):\n",
        "    self.head = None\n",
        "\n",
        "  def pull(self, newElement):\n",
        "    newNode = Node(newElement)\n",
        "    if(self.head == None):\n",
        "      self.head = newNode\n",
        "      return\n",
        "    else:\n",
        "      temp = self.head\n",
        "      while(temp.next != None):\n",
        "        temp = temp.next\n",
        "      temp.next = newNode\n",
        "\n",
        "  def pop(self):\n",
        "    if(self.head != None):\n",
        "      temp = self.head\n",
        "      self.head = self.head.next\n",
        "      temp = None \n",
        "\n",
        "  def PrintList(self):\n",
        "    temp = self.head\n",
        "    if(temp != None):\n",
        "      print(\"The list contains:\", end=\" \")\n",
        "      while (temp != None):\n",
        "        print(temp.data, end=\" \")\n",
        "        temp = temp.next\n",
        "      print()\n",
        "    else:\n",
        "      print(\"The list is empty.\")\n",
        "\n",
        "MyList = LinkedList()\n",
        "\n",
        "MyList.pull(10)\n",
        "MyList.pull(20)\n",
        "MyList.pull(30)\n",
        "MyList.pull(40)\n",
        "MyList.PrintList()\n",
        "\n",
        "MyList.pop()\n",
        "MyList.PrintList()"
      ]
    },
    {
      "cell_type": "code",
      "source": [],
      "metadata": {
        "id": "1DlTqzTyRigZ"
      },
      "execution_count": null,
      "outputs": []
    }
  ]
}